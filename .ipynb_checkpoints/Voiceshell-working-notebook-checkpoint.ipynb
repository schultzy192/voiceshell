{
 "cells": [
  {
   "cell_type": "markdown",
   "metadata": {},
   "source": [
    "# Voiceshell Work Notebook\n",
    "\n",
    "*Adapted from Allison Parrish's Understanding Word Vectors notebook*"
   ]
  },
  {
   "cell_type": "markdown",
   "metadata": {},
   "source": [
    "#### Importing required libraries:"
   ]
  },
  {
   "cell_type": "code",
   "execution_count": 1,
   "metadata": {
    "collapsed": true
   },
   "outputs": [],
   "source": [
    "# IMPORTS\n",
    "import math\n",
    "import random\n",
    "from __future__ import unicode_literals\n",
    "import spacy\n",
    "import numpy as np\n",
    "from numpy import dot\n",
    "from numpy.linalg import norm"
   ]
  },
  {
   "cell_type": "markdown",
   "metadata": {},
   "source": [
    "#### Defining basic mathematical functions for vector math:"
   ]
  },
  {
   "cell_type": "code",
   "execution_count": 2,
   "metadata": {
    "collapsed": true
   },
   "outputs": [],
   "source": [
    "def meanv(coords):\n",
    "    sumv = [0] * len(coords[0])\n",
    "    for item in coords:\n",
    "        for i in range(len(item)):\n",
    "            sumv[i] += item[i]\n",
    "    mean = [0] * len(sumv)\n",
    "    for i in range(len(sumv)):\n",
    "        mean[i] = float(sumv[i]) / len(coords)\n",
    "    return mean"
   ]
  },
  {
   "cell_type": "code",
   "execution_count": 3,
   "metadata": {
    "collapsed": true
   },
   "outputs": [],
   "source": [
    "def cosine(v1, v2):\n",
    "    if norm(v1) > 0 and norm(v2) > 0:\n",
    "        return dot(v1, v2) / (norm(v1) * norm(v2))\n",
    "    else:\n",
    "        return 0.0"
   ]
  },
  {
   "cell_type": "markdown",
   "metadata": {},
   "source": [
    "#### Defining Spacy/Word Vector low level functions:"
   ]
  },
  {
   "cell_type": "code",
   "execution_count": 4,
   "metadata": {
    "collapsed": true
   },
   "outputs": [],
   "source": [
    "def sentvec(s):\n",
    "    sent = nlp(s)\n",
    "    return meanv([w.vector for w in sent])"
   ]
  },
  {
   "cell_type": "code",
   "execution_count": 5,
   "metadata": {
    "collapsed": true
   },
   "outputs": [],
   "source": [
    "def spacy_closest_sent(space, input_str, n=10):\n",
    "    input_vec = sentvec(input_str)\n",
    "    return sorted(space,\n",
    "                  key=lambda x: cosine(np.mean([w.vector for w in x], axis=0), input_vec),\n",
    "                  reverse=True)[:n]"
   ]
  },
  {
   "cell_type": "markdown",
   "metadata": {},
   "source": [
    "#### Creating Spacy processor and loading a corpus:"
   ]
  },
  {
   "cell_type": "code",
   "execution_count": 6,
   "metadata": {
    "collapsed": true
   },
   "outputs": [],
   "source": [
    "nlp = spacy.load('en')\n",
    "doc = nlp(open(\"corpus/all.txt\").read())"
   ]
  },
  {
   "cell_type": "markdown",
   "metadata": {},
   "source": [
    "#### Splitting corpus into individual, complete sentences:"
   ]
  },
  {
   "cell_type": "code",
   "execution_count": 7,
   "metadata": {
    "collapsed": false
   },
   "outputs": [],
   "source": [
    "sentences = list(doc.sents)"
   ]
  },
  {
   "cell_type": "markdown",
   "metadata": {},
   "source": [
    "#### Defining user input prompts, and getting input to process, return result:"
   ]
  },
  {
   "cell_type": "code",
   "execution_count": 18,
   "metadata": {
    "collapsed": false
   },
   "outputs": [
    {
     "name": "stdout",
     "output_type": "stream",
     "text": [
      "What do you like to eat?\n",
      "fruit\n",
      "---\n",
      "With cheese and egg.\n",
      "---\n",
      "---\n",
      "Food Tech was okay, with fresh bread dyed to look mouldy, and bright blue juice that it was easy to guess was lemon. \n",
      "---\n",
      "---\n",
      "A red apple after dark isn’t red, it’s a black apple.\n",
      "---\n",
      "---\n",
      "FoodWhatever I ate, she ate — and from my bowl: stone-sized chunks of aloneness and whatever else my father’s allowance allowed. \n",
      "---\n",
      "---\n",
      "A bread roll.\n",
      "---\n",
      "---\n",
      "He sniffs heavenin onion smells before the steak goes onand makes no judgement whether breakfastis the right time.\n",
      "---\n",
      "---\n",
      "The cow was eating hay in a small concrete room. \n",
      "---\n",
      "---\n",
      "Ernest Hemingway found rain to bemade of knowledge, experiencewine oil salt vinegar quincebed early mornings nights days the seamen women dogs hill and rich valleythe appearance and disappearance of senseor trains on curved and straight tracks, hencelove honour and dishonour, a scent of infinity.\n",
      "---\n",
      "---\n",
      "Ernest Hemingway found rain to bemade of knowledge, experiencewine oil salt vinegar quincebed early mornings nights days the seamen women dogs hill and rich valleythe appearance and disappearance of senseor trains on curved and straight tracks, hencelove honour and dishonour, a scent of infinity.\n",
      "---\n",
      "---\n",
      "Choose the avocado and the yellow ballpoint with the testament This pen was stolen from Finn McCool’s Irish PubFor your final meal demand beer and jaffa custard plus those twig-thin chocolate spirals at two dollars ninety-five a dozen. \n",
      "---\n"
     ]
    }
   ],
   "source": [
    "inquiries = [\"How are you feeling?\", \"Tell me a quote you like.\", \"What are the first three words that pop into your head?\", \"What day is it today?\", \"What's your favourite colour?\", \"Where are you right now?\", \"What's your job?\", \"What do you like to eat?\", \"What animal would you want as a pet?\"]\n",
    "inquiry = random.choice(inquiries)\n",
    "\n",
    "print(inquiry)\n",
    "user_input = input()\n",
    "\n",
    "for sent in spacy_closest_sent(sentences, user_input):\n",
    "    print(\"---\")\n",
    "    print(sent.text.replace('\\n',''))\n",
    "    print(\"---\")"
   ]
  },
  {
   "cell_type": "code",
   "execution_count": null,
   "metadata": {
    "collapsed": true
   },
   "outputs": [],
   "source": []
  }
 ],
 "metadata": {
  "kernelspec": {
   "display_name": "Python 3",
   "language": "python",
   "name": "python3"
  },
  "language_info": {
   "codemirror_mode": {
    "name": "ipython",
    "version": 3
   },
   "file_extension": ".py",
   "mimetype": "text/x-python",
   "name": "python",
   "nbconvert_exporter": "python",
   "pygments_lexer": "ipython3",
   "version": "3.6.0"
  }
 },
 "nbformat": 4,
 "nbformat_minor": 2
}

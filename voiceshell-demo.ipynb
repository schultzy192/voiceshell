{
 "cells": [
  {
   "cell_type": "markdown",
   "metadata": {},
   "source": [
    "# Voiceshell Demo"
   ]
  },
  {
   "cell_type": "markdown",
   "metadata": {},
   "source": [
    "#### Imports"
   ]
  },
  {
   "cell_type": "code",
   "execution_count": 3,
   "metadata": {
    "collapsed": true
   },
   "outputs": [],
   "source": [
    "import math\n",
    "import random\n",
    "from __future__ import unicode_literals\n",
    "import spacy\n",
    "import os\n",
    "import csv\n",
    "import numpy as np\n",
    "from numpy import dot\n",
    "from numpy.linalg import norm\n",
    "import wave, sys, pyaudio"
   ]
  },
  {
   "cell_type": "markdown",
   "metadata": {},
   "source": [
    "#### Creating/defining basic functions"
   ]
  },
  {
   "cell_type": "code",
   "execution_count": 4,
   "metadata": {
    "collapsed": true
   },
   "outputs": [],
   "source": [
    "def meanv(coords):\n",
    "    sumv = [0] * len(coords[0])\n",
    "    for item in coords:\n",
    "        for i in range(len(item)):\n",
    "            sumv[i] += item[i]\n",
    "    mean = [0] * len(sumv)\n",
    "    for i in range(len(sumv)):\n",
    "        mean[i] = float(sumv[i]) / len(coords)\n",
    "    return mean\n",
    "\n",
    "def cosine(v1, v2):\n",
    "    if norm(v1) > 0 and norm(v2) > 0:\n",
    "        return dot(v1, v2) / (norm(v1) * norm(v2))\n",
    "    else:\n",
    "        return 0.0\n",
    "    \n",
    "def sentvec(s):\n",
    "    sent = nlp(s)\n",
    "    word_vectors = [w.vector for w in sent]\n",
    "    return meanv(word_vectors)\n",
    "\n",
    "def spacy_closest_sent(space, input_str, n=1):\n",
    "    input_vec = sentvec(input_str)\n",
    "    return sorted(space,\n",
    "                  key=lambda x: cosine(np.mean([w.vector for w in x], axis=0), input_vec),\n",
    "                  reverse=True)[:n]"
   ]
  },
  {
   "cell_type": "markdown",
   "metadata": {},
   "source": [
    "#### Set corpus file here:"
   ]
  },
  {
   "cell_type": "code",
   "execution_count": 5,
   "metadata": {
    "collapsed": true
   },
   "outputs": [],
   "source": [
    "nlp = spacy.load('en')\n",
    "\n",
    "corpusFile = 'revisedCorpus/voiceshell_audio_LUT.csv'"
   ]
  },
  {
   "cell_type": "code",
   "execution_count": 7,
   "metadata": {
    "collapsed": false
   },
   "outputs": [],
   "source": [
    "with open(corpusFile, 'r') as f:\n",
    "    reader = csv.reader(f)\n",
    "    all_lines = list(reader)\n",
    "    \n",
    "audio_lookup_table = {}\n",
    "sentences = []\n",
    "for line in all_lines:\n",
    "    sentence = line[0]\n",
    "    if not sentence.isspace():\n",
    "        sentences.append(nlp(sentence))\n",
    "    filename = line[1]\n",
    "    audio_lookup_table[sentence] = filename"
   ]
  },
  {
   "cell_type": "code",
   "execution_count": 8,
   "metadata": {
    "collapsed": true
   },
   "outputs": [],
   "source": [
    "prompts = [\"How are you feeling?\", \"Tell me a quote you like.\", \"What are the first three words that pop into your head?\", \"What day is it today?\", \"What's your favourite colour?\", \"Where are you right now?\", \"What's your job?\", \"What do you like to eat?\", \"What animal would you want as a pet?\"]"
   ]
  },
  {
   "cell_type": "code",
   "execution_count": 14,
   "metadata": {
    "collapsed": false
   },
   "outputs": [],
   "source": [
    "def runLoop():\n",
    "    prompt = random.choice(prompts)\n",
    "    print('Enter some text, anything at all...')\n",
    "    userInput = input()\n",
    "    \n",
    "    for sent in spacy_closest_sent(sentences, userInput):\n",
    "        print(sent.text)\n",
    "    \n",
    "    audioFile = audio_lookup_table[sent.text]\n",
    "    print(audioFile)\n",
    "    \n",
    "    sound = wave.open(audioFile)\n",
    "    p = pyaudio.PyAudio()\n",
    "    chunk = 1024\n",
    "    stream = p.open(format = p.get_format_from_width(sound.getsampwidth()), channels = sound.getnchannels(), rate = sound.getframerate(), output = True)\n",
    "    data = sound.readframes(chunk)\n",
    "    while len(data) > 0:\n",
    "        stream.write(data)\n",
    "        data = sound.readframes(chunk)\n",
    "    stream.stop_stream()\n",
    "    stream.close()\n",
    "    \n",
    "    p.terminate"
   ]
  },
  {
   "cell_type": "markdown",
   "metadata": {},
   "source": [
    "## Run here:"
   ]
  },
  {
   "cell_type": "code",
   "execution_count": 15,
   "metadata": {
    "collapsed": false
   },
   "outputs": [
    {
     "name": "stdout",
     "output_type": "stream",
     "text": [
      "Enter some text, anything at all...\n",
      "this is wednesday\n"
     ]
    },
    {
     "name": "stderr",
     "output_type": "stream",
     "text": [
      "/usr/local/anaconda/lib/python3.6/site-packages/numpy/core/_methods.py:59: RuntimeWarning: Mean of empty slice.\n",
      "  warnings.warn(\"Mean of empty slice.\", RuntimeWarning)\n",
      "/usr/local/anaconda/lib/python3.6/site-packages/numpy/core/_methods.py:70: RuntimeWarning: invalid value encountered in double_scalars\n",
      "  ret = ret.dtype.type(ret / rcount)\n"
     ]
    },
    {
     "name": "stdout",
     "output_type": "stream",
     "text": [
      "You approach a scene like that with caution.\n",
      "PoemsAudio/Andrews/andrews3.wav\n"
     ]
    }
   ],
   "source": [
    "runLoop()"
   ]
  },
  {
   "cell_type": "code",
   "execution_count": null,
   "metadata": {
    "collapsed": true
   },
   "outputs": [],
   "source": []
  }
 ],
 "metadata": {
  "kernelspec": {
   "display_name": "Python 3",
   "language": "python",
   "name": "python3"
  },
  "language_info": {
   "codemirror_mode": {
    "name": "ipython",
    "version": 3
   },
   "file_extension": ".py",
   "mimetype": "text/x-python",
   "name": "python",
   "nbconvert_exporter": "python",
   "pygments_lexer": "ipython3",
   "version": "3.6.0"
  }
 },
 "nbformat": 4,
 "nbformat_minor": 2
}

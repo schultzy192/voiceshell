{
 "cells": [
  {
   "cell_type": "markdown",
   "metadata": {},
   "source": [
    "# Voiceshell Work Notebook\n",
    "\n",
    "*Adapted from Allison Parrish's Understanding Word Vectors notebook*"
   ]
  },
  {
   "cell_type": "markdown",
   "metadata": {},
   "source": [
    "#### Python Package Installation for Speech Recognition\n",
    "\n",
    "*Run in terminal to install SpeechRecognition.py & PocketSphinx engine:*\n",
    "\n",
    "`pip install SpeechRecognition`\n",
    "\n",
    "`pip install pocketsphinx`"
   ]
  },
  {
   "cell_type": "markdown",
   "metadata": {},
   "source": [
    "#### Importing required libraries:"
   ]
  },
  {
   "cell_type": "code",
   "execution_count": 1,
   "metadata": {
    "collapsed": true
   },
   "outputs": [],
   "source": [
    "# IMPORTS\n",
    "import math\n",
    "import random\n",
    "from __future__ import unicode_literals\n",
    "import spacy\n",
    "import speech_recognition as sr\n",
    "import os\n",
    "import numpy as np\n",
    "from numpy import dot\n",
    "from numpy.linalg import norm"
   ]
  },
  {
   "cell_type": "markdown",
   "metadata": {},
   "source": [
    "#### Defining basic mathematical functions for vector math:"
   ]
  },
  {
   "cell_type": "code",
   "execution_count": 2,
   "metadata": {
    "collapsed": true
   },
   "outputs": [],
   "source": [
    "def meanv(coords):\n",
    "    sumv = [0] * len(coords[0])\n",
    "    for item in coords:\n",
    "        for i in range(len(item)):\n",
    "            sumv[i] += item[i]\n",
    "    mean = [0] * len(sumv)\n",
    "    for i in range(len(sumv)):\n",
    "        mean[i] = float(sumv[i]) / len(coords)\n",
    "    return mean"
   ]
  },
  {
   "cell_type": "code",
   "execution_count": 3,
   "metadata": {
    "collapsed": true
   },
   "outputs": [],
   "source": [
    "def cosine(v1, v2):\n",
    "    if norm(v1) > 0 and norm(v2) > 0:\n",
    "        return dot(v1, v2) / (norm(v1) * norm(v2))\n",
    "    else:\n",
    "        return 0.0"
   ]
  },
  {
   "cell_type": "markdown",
   "metadata": {},
   "source": [
    "#### Defining Spacy/Word Vector low level functions:"
   ]
  },
  {
   "cell_type": "code",
   "execution_count": 4,
   "metadata": {
    "collapsed": true
   },
   "outputs": [],
   "source": [
    "def sentvec(s):\n",
    "    sent = nlp(s)\n",
    "    return meanv([w.vector for w in sent])"
   ]
  },
  {
   "cell_type": "code",
   "execution_count": 41,
   "metadata": {
    "collapsed": true
   },
   "outputs": [],
   "source": [
    "def spacy_closest_sent(space, input_str, n=1):\n",
    "    input_vec = sentvec(input_str)\n",
    "    return sorted(space,\n",
    "                  key=lambda x: cosine(np.mean([w.vector for w in x], axis=0), input_vec),\n",
    "                  reverse=True)[:n]"
   ]
  },
  {
   "cell_type": "markdown",
   "metadata": {},
   "source": [
    "#### Creating Spacy processor and loading a corpus:"
   ]
  },
  {
   "cell_type": "code",
   "execution_count": 33,
   "metadata": {
    "collapsed": true
   },
   "outputs": [],
   "source": [
    "nlp = spacy.load('en')\n",
    "doc = nlp(open(\"corpus/andrews1.txt\").read().replace('\\n', ' ').replace('  ', ' '))"
   ]
  },
  {
   "cell_type": "markdown",
   "metadata": {},
   "source": [
    "#### Splitting corpus into individual, complete sentences:"
   ]
  },
  {
   "cell_type": "code",
   "execution_count": 34,
   "metadata": {
    "collapsed": false
   },
   "outputs": [],
   "source": [
    "sentences = list(doc.sents)"
   ]
  },
  {
   "cell_type": "markdown",
   "metadata": {},
   "source": [
    "#### Define list of prompts to user:"
   ]
  },
  {
   "cell_type": "code",
   "execution_count": 21,
   "metadata": {
    "collapsed": true
   },
   "outputs": [],
   "source": [
    "inquiries = [\"How are you feeling?\", \"Tell me a quote you like.\", \"What are the first three words that pop into your head?\", \"What day is it today?\", \"What's your favourite colour?\", \"Where are you right now?\", \"What's your job?\", \"What do you like to eat?\", \"What animal would you want as a pet?\"]"
   ]
  },
  {
   "cell_type": "code",
   "execution_count": 48,
   "metadata": {
    "collapsed": false
   },
   "outputs": [
    {
     "name": "stdout",
     "output_type": "stream",
     "text": [
      "A buckling dent.\n"
     ]
    }
   ],
   "source": [
    "print(sentences[2])"
   ]
  },
  {
   "cell_type": "markdown",
   "metadata": {},
   "source": [
    "#### Defining user input prompts, and getting input to process, return result:"
   ]
  },
  {
   "cell_type": "code",
   "execution_count": 50,
   "metadata": {
    "collapsed": false
   },
   "outputs": [
    {
     "name": "stdout",
     "output_type": "stream",
     "text": [
      "What are the first three words that pop into your head?\n",
      "hello\n",
      "---\n",
      "7\n",
      "I was thinking of you, how you will find out.\n",
      "---\n"
     ]
    }
   ],
   "source": [
    "inquiry = random.choice(inquiries)\n",
    "print(inquiry)\n",
    "user_input = input()\n",
    "\n",
    "for sent in spacy_closest_sent(sentences, user_input):\n",
    "    sentNum = sentences.index(sent)\n",
    "    print(\"---\")\n",
    "    print(sentNum)\n",
    "    print(sent.text)\n",
    "    print(\"---\")"
   ]
  },
  {
   "cell_type": "markdown",
   "metadata": {},
   "source": [
    "#### Setting up basic SpeechRecognition input:\n",
    "[Source](http://www.codesofinterest.com/2017/03/python-speech-recognition-pocketsphinx.html)"
   ]
  },
  {
   "cell_type": "code",
   "execution_count": 11,
   "metadata": {
    "collapsed": false
   },
   "outputs": [
    {
     "name": "stdout",
     "output_type": "stream",
     "text": [
      "Just a moment, calibrating the microphone...\n",
      "What's your job?  (Speak aloud, please.)\n",
      "Sphinx error; missing PocketSphinx module: ensure that PocketSphinx is set up correctly.\n"
     ]
    }
   ],
   "source": [
    "# get microphone input\n",
    "r = sr.Recognizer()\n",
    "with sr.Microphone() as source:\n",
    "    print(\"Just a moment, calibrating the microphone...\")\n",
    "    # 5 second listen and find ambient noise level\n",
    "    r.adjust_for_ambient_noise(source, duration=5)\n",
    "    inquiry = random.choice(inquiries)\n",
    "    \n",
    "    # read question aloud and print it\n",
    "    os.system(\"say '\" + inquiry + \"'\")\n",
    "    print(inquiry,\" (Speak aloud, please.)\")\n",
    "    audio = r.listen(source)\n",
    "    \n",
    "# recognise speech with Sphinx\n",
    "try:\n",
    "    recogSpeech = r.recognize_sphinx(audio) + \"'\"\n",
    "    print(\"I heard you say: \", recogSpeech)\n",
    "    for sent in spacy_closest_sent(sentences, recogSpeech):\n",
    "        print(\"----------\")\n",
    "        print(\"...\")\n",
    "        print(sent.text)\n",
    "        print(\"----------\")\n",
    "except sr.UnknownValueError:\n",
    "    print(\"Sorry, I couldn't understand you.\")\n",
    "except sr.RequestError as e:\n",
    "    print(\"Sphinx error; {0}\".format(e))"
   ]
  },
  {
   "cell_type": "code",
   "execution_count": 61,
   "metadata": {
    "collapsed": false
   },
   "outputs": [
    {
     "data": {
      "text/plain": [
       "0"
      ]
     },
     "execution_count": 61,
     "metadata": {},
     "output_type": "execute_result"
    }
   ],
   "source": [
    "os.system(\"say 'White Saris, by Angela Andrews'\")"
   ]
  },
  {
   "cell_type": "markdown",
   "metadata": {},
   "source": [
    "#### Playing with Python WAV Audio playback"
   ]
  },
  {
   "cell_type": "code",
   "execution_count": 59,
   "metadata": {
    "collapsed": false
   },
   "outputs": [
    {
     "name": "stdout",
     "output_type": "stream",
     "text": [
      "Where are you right now?\n",
      "closet\n",
      "---\n",
      "1\n",
      "What I knew of their house was a blue garage door, kicked-in at the middle.\n",
      "---\n",
      "PoemsAudio/Andrews/andrews1.wav\n"
     ]
    }
   ],
   "source": [
    "import wave, sys, pyaudio\n",
    "\n",
    "inquiry = random.choice(inquiries)\n",
    "print(inquiry)\n",
    "user_input = input()\n",
    "\n",
    "for sent in spacy_closest_sent(sentences, user_input):\n",
    "    sentNum = sentences.index(sent)\n",
    "    print(\"---\")\n",
    "    print(sentNum)\n",
    "    print(sent.text)\n",
    "    print(\"---\")\n",
    "\n",
    "    audioFile = 'PoemsAudio/Andrews/andrews{}.wav'.format(sentNum)\n",
    "\n",
    "# sound = wave.open(audioFile)\n",
    "\n",
    "print(audioFile)\n",
    "\n",
    "sound = wave.open(audioFile)\n",
    "p = pyaudio.PyAudio()\n",
    "chunk = 1024\n",
    "stream = p.open(format = p.get_format_from_width(sound.getsampwidth()), channels = sound.getnchannels(), rate = sound.getframerate(), output = True)\n",
    "data = sound.readframes(chunk)\n",
    "while len(data) > 0:\n",
    "    stream.write(data)\n",
    "    data = sound.readframes(chunk)\n",
    "stream.stop_stream()\n",
    "stream.close()\n",
    "\n",
    "p.terminate()"
   ]
  },
  {
   "cell_type": "code",
   "execution_count": 60,
   "metadata": {
    "collapsed": true
   },
   "outputs": [],
   "source": [
    "lookup_table = {}\n",
    "# for each line in csv:\n",
    "   1) text = column[1]\n",
    "   2) filename = column[2]\n",
    "   lookup_table[text] = filename"
   ]
  },
  {
   "cell_type": "code",
   "execution_count": null,
   "metadata": {
    "collapsed": true
   },
   "outputs": [],
   "source": [
    "audio_file = lokup_table[closest_sentence]"
   ]
  }
 ],
 "metadata": {
  "kernelspec": {
   "display_name": "Python 3",
   "language": "python",
   "name": "python3"
  },
  "language_info": {
   "codemirror_mode": {
    "name": "ipython",
    "version": 3
   },
   "file_extension": ".py",
   "mimetype": "text/x-python",
   "name": "python",
   "nbconvert_exporter": "python",
   "pygments_lexer": "ipython3",
   "version": "3.6.0"
  }
 },
 "nbformat": 4,
 "nbformat_minor": 2
}

{
 "cells": [
  {
   "cell_type": "markdown",
   "metadata": {},
   "source": [
    "# Voiceshell Work Notebook\n",
    "\n",
    "*Adapted from Allison Parrish's Understanding Word Vectors notebook*"
   ]
  },
  {
   "cell_type": "code",
   "execution_count": 1,
   "metadata": {
    "collapsed": true
   },
   "outputs": [],
   "source": [
    "# IMPORTS\n",
    "import math\n",
    "import random\n",
    "from __future__ import unicode_literals\n",
    "import spacy\n",
    "import numpy as np\n",
    "from numpy import dot\n",
    "from numpy.linalg import norm"
   ]
  },
  {
   "cell_type": "code",
   "execution_count": 14,
   "metadata": {
    "collapsed": true
   },
   "outputs": [],
   "source": [
    "def meanv(coords):\n",
    "    sumv = [0] * len(coords[0])\n",
    "    for item in coords:\n",
    "        for i in range(len(item)):\n",
    "            sumv[i] += item[i]\n",
    "    mean = [0] * len(sumv)\n",
    "    for i in range(len(sumv)):\n",
    "        mean[i] = float(sumv[i]) / len(coords)\n",
    "    return mean"
   ]
  },
  {
   "cell_type": "code",
   "execution_count": 15,
   "metadata": {
    "collapsed": true
   },
   "outputs": [],
   "source": [
    "def cosine(v1, v2):\n",
    "    if norm(v1) > 0 and norm(v2) > 0:\n",
    "        return dot(v1, v2) / (norm(v1) * norm(v2))\n",
    "    else:\n",
    "        return 0.0"
   ]
  },
  {
   "cell_type": "code",
   "execution_count": 16,
   "metadata": {
    "collapsed": true
   },
   "outputs": [],
   "source": [
    "def sentvec(s):\n",
    "    sent = nlp(s)\n",
    "    return meanv([w.vector for w in sent])"
   ]
  },
  {
   "cell_type": "code",
   "execution_count": 17,
   "metadata": {
    "collapsed": true
   },
   "outputs": [],
   "source": [
    "def spacy_closest_sent(space, input_str, n=10):\n",
    "    input_vec = sentvec(input_str)\n",
    "    return sorted(space,\n",
    "                  key=lambda x: cosine(np.mean([w.vector for w in x], axis=0), input_vec),\n",
    "                  reverse=True)[:n]"
   ]
  },
  {
   "cell_type": "code",
   "execution_count": 18,
   "metadata": {
    "collapsed": true
   },
   "outputs": [],
   "source": [
    "nlp = spacy.load('en')\n",
    "doc = nlp(open(\"corpus/all.txt\").read())"
   ]
  },
  {
   "cell_type": "code",
   "execution_count": 19,
   "metadata": {
    "collapsed": false
   },
   "outputs": [],
   "source": [
    "sentences = list(doc.sents)"
   ]
  },
  {
   "cell_type": "code",
   "execution_count": 20,
   "metadata": {
    "collapsed": true
   },
   "outputs": [],
   "source": [
    "inquiries = [\"How are you feeling?\", \"What day is it today?\", \"What's your favourite colour?\", \"Where are you right now?\", \"What's your job?\", \"What do you like to eat?\", \"What animal would you want as a pet?\"]\n",
    "inquiry = random.choice(inquiries)"
   ]
  },
  {
   "cell_type": "code",
   "execution_count": 22,
   "metadata": {
    "collapsed": false
   },
   "outputs": [
    {
     "name": "stdout",
     "output_type": "stream",
     "text": [
      "What's your job?\n",
      "chef\n",
      "---\n",
      "I like dinner music.\n",
      "---\n",
      "---\n",
      "Food\n",
      "\n",
      "Whatever I ate, she ate — and from my bowl: \n",
      "stone-sized chunks of aloneness \n",
      "and whatever else my father’s allowance allowed.\n",
      "---\n",
      "---\n",
      "With cheese and egg.\n",
      "---\n",
      "---\n",
      "Food Tech was okay, with fresh bread \n",
      "dyed to look mouldy, and bright blue juice \n",
      "that it was easy to guess was lemon.\n",
      "---\n",
      "---\n",
      "He sniffs heaven\n",
      "in onion smells before the steak goes on\n",
      "and makes no judgement whether breakfast\n",
      "is the right time.\n",
      "---\n",
      "---\n",
      "We gave the young man a \n",
      "bread roll.\n",
      "---\n",
      "---\n",
      "A bread roll.\n",
      "---\n",
      "---\n",
      "I knew he was all right when he walked past\n",
      "\n",
      "the kitchen door one day and said I smell soup— \n",
      "have you got a bacon hock in that?\n",
      "---\n",
      "---\n",
      "An artist carved them with the point \n",
      "of his tiny print knife, thinking, ‘\n",
      "---\n",
      "---\n",
      "And Mrs Ellingham who had an MA in French, \n",
      "ah, the university.\n",
      "---\n"
     ]
    }
   ],
   "source": [
    "print(inquiry)\n",
    "user_input = input()\n",
    "\n",
    "for sent in spacy_closest_sent(sentences, user_input):\n",
    "    print(\"---\")\n",
    "    print(sent.text.strip())\n",
    "    print(\"---\")"
   ]
  },
  {
   "cell_type": "code",
   "execution_count": null,
   "metadata": {
    "collapsed": true
   },
   "outputs": [],
   "source": []
  }
 ],
 "metadata": {
  "kernelspec": {
   "display_name": "Python 3",
   "language": "python",
   "name": "python3"
  },
  "language_info": {
   "codemirror_mode": {
    "name": "ipython",
    "version": 3
   },
   "file_extension": ".py",
   "mimetype": "text/x-python",
   "name": "python",
   "nbconvert_exporter": "python",
   "pygments_lexer": "ipython3",
   "version": "3.6.0"
  }
 },
 "nbformat": 4,
 "nbformat_minor": 2
}
